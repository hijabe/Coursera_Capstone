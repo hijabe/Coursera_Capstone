{
    "nbformat_minor": 1, 
    "cells": [
        {
            "source": "# Party or Study:  What can clustering tell us about American university culture by examining the types of venues surrounding a university?\n\n## Introduction/Problem Statement\n\nIf you are applying to college and are a serious student, you are most likely interested in which universities have a culture that encourages study.  Likewise, if you are a student who is not quite so inclined to serious study, you would probably like to know which universities support relaxation, or health, or other interests. While college guides can tell you the demographics of a particular institution, they may not tell you what the university culture is like.  Furthermore, articles on campus life are usually based on qualitative, anecdotal reports, or surveys and not always on quantitative fact.  \n\nThe culture of college campuses is not only of interest to students.  Some universities take an active role in trying to shape a specific culture at their university.  Portland State University administration, for example, tries to foster a culture of civic engagement (https://archive.nytimes.com/www.nytimes.com/ref/college/collegespecial2/coll_aascu_ecculture.html). James Lang, an author of an article in the Chronicle of Higher Education, laments the loss of an intellectual climate, where students would talk about big ideas outside the classroom. (https://www.chronicle.com/article/21st-Century-Campus-Culture/129333)\n\nI live in a college town, Boulder, Colorado, and as I learned in the previous assignment about clustering and using Foursquare to identify venues in neighborhoods, it got me thinking about what the venues around universities tell us about the culture of universities. Can it tell us if its a \"party\" school, or has an intellectual culture   \n\nMy hypothesis is that the venues that surround universities can tell us something about the culture that exists at that campus and that by classifying universities by their surrounding venues, we might infer what kind of cultures exist.  This information might be of use to both students who are applying to universities and are looking for a good fit, and univeristy admiinistration who want to understand their universities culture and see if cultural changes they are pursuing are effective. For this study, I focused on whether the culture was more of a party culture or more a study culture.  I defined study schools as a cluster of universities having a preponderance of coffee shops in proportion to bars, since that is where I did all my studying when I was in graduate school.  I defined party schools as the cluster having fewer coffee shops in proportion to bars.  \n", 
            "cell_type": "markdown", 
            "metadata": {
                "collapsed": true
            }
        }, 
        {
            "source": "## Data\n\nTo do my analysis, I got university names and their geographical locations for a random sample of 50 large baccalaureate (or higher) granting universities from the National Center for Educational Statistics https://nces.ed.gov/ipeds/use-the-data.  The reason why I am focusing on large universities is that I want to ensure that there are enough students to have a significant impact on the immediate surroundings of the university. I also focus on 4 year or baccalaureate granting schools to filter out voacational or associates level programs.\n\nI then used Foursquare location data to identify the bars and coffee shops in a 1500 meter radius around each university.  This provided input to identify the frequency of different venues for analysis.   ", 
            "cell_type": "markdown", 
            "metadata": {}
        }, 
        {
            "source": "## Method  \n\n- I started by doing exploratory data analysis on the data to look at the characteristics and quality of the data to make sure that it was clean and how big it was.  \n- I then did a kmeans clustering to analyze the groups.  I specified 2 clusters in the kmeans analysis so that I could identify groups of universities that had a larger proportion of coffee shops to bars so I could identify which schools were the party schools and which schools were the study schools. \n- After I clustered the data I looked at the proportions of coffee shops in each cluster so I could evaluate if the clustering did identify a difference between the groups and see what the proportions looked like. I also did a count of the number of universities in each cluster. \n- I then did a scatter diagram so that I could visualize the numbers of bars and coffee houses for each university in each cluster.  \n- I then mapped the data so that I could have a visualization of each university, where it was located and what its cluster was.  \n- Finally, I created a dataframe for each cluster so I could see which universities were considered party schools versus which were study schools. Ialso did some statistics on each cluster to show the descriptive statistics on the actual number of bars and coffee shops per university\n", 
            "cell_type": "markdown", 
            "metadata": {}
        }, 
        {
            "source": "## Results\n\nAfter cleaning the data, 46 of the 50 universities remained. Four universities out of the 50 were dropped due to missing data. The Kmeans machine learning algorithm sorted those universities into 2 clusters, Cluster 0 and Cluster 1.  Cluster 0 contained 17 universities and Cluster 1 contained 29 universities.  Cluster 0 universities had a mix of 57% bars and 43% coffee shops. I labelled this cluster the Party Schools. Cluster 1 universities had a mix of 17% bars and 83% coffee shops. I labelled this cluster the Study Schools. At the end of the code notebook is which schools were in each cluster.  \n\nFor Cluster 0 there was an average of 5.0 bars(std dev = 3.6)  and 3.5 coffee shops(std dev = 1.9) per university with a minimum of 1 bar and 1 coffee shop and a maximum of 16 bars and 7 coffee shops. Percentiles were:\n\n- 25th percentile: 3 bars 2 coffee shops \n- 50th percentile: 5 bars 3 coffee shops \n- 75th percentile: 5 bars 4 coffee shops \n\nFor Cluster 1 there was an average of 1.3 bars(std dev = 1.2) and 5 coffee shops(std dev = 2.4) per university with a minimum of 0 bar and 1 coffee shop and a maximum of 4 bars and 12 coffee shops. Percentiles were: \n\n- 25th percentile: 0 bars 3 coffee shops \n- 50th percentile: 1 bars 5 coffee shops \n- 75th percentile: 2 bars 6 coffee shops ", 
            "cell_type": "markdown", 
            "metadata": {}
        }, 
        {
            "source": "## Discussion \nA potential college student could use the results of this analysis to filter out schools that were not a good fit for their study or party interests.  The kmeans algorithm was able to definitively identify groups of universities that had proportionally more coffee shops than bars and vice versa.  There was a marked difference between the numbers of bars and coffee shops in the two clusters.  25% of the universities in Cluster 1 has 0 bars and the 50th percentile was one bar. This represents a fair number of campus where places to imbibe are limited. If a potential student wanted to attend a university where they could drink and walk back to campus, they might not want to attend schools in Cluster 1 and look more at the schools in Cluster 0.  However, if a student was looking for a campus culture where there are lots of places to study, they would probably want to take a look at the schools in cluster 1 because they had many more coffee shops than Cluster 0.\n", 
            "cell_type": "markdown", 
            "metadata": {}
        }, 
        {
            "source": "## Conclusion \nIn this study I used kmeans machine learning algorithm to determine which universities are \"party\" schools, that have proportionally more bars than coffee shops versus \"study\" schools that have proportionally more coffee shops than bars.  The kmeans clusters supported my hypothesis that you could use the venues around a university to determine to a limited degree the culture of the university.  This study could be extended in a number of ways.  For example, how much does the population of the city where a university is located imfluence the density of the venues.", 
            "cell_type": "markdown", 
            "metadata": {}
        }, 
        {
            "execution_count": null, 
            "cell_type": "code", 
            "metadata": {}, 
            "outputs": [], 
            "source": ""
        }
    ], 
    "metadata": {
        "kernelspec": {
            "display_name": "Python 3.5 with Spark 2.1", 
            "name": "python3-spark21", 
            "language": "python"
        }, 
        "language_info": {
            "mimetype": "text/x-python", 
            "nbconvert_exporter": "python", 
            "version": "3.5.4", 
            "name": "python", 
            "file_extension": ".py", 
            "pygments_lexer": "ipython3", 
            "codemirror_mode": {
                "version": 3, 
                "name": "ipython"
            }
        }
    }, 
    "nbformat": 4
}