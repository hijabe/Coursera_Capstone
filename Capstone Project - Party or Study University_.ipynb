{
    "nbformat_minor": 1, 
    "cells": [
        {
            "source": "# Party or Study:  What can clustering tell us about American university culture by examining the types of venues surrounding the university?\n\n## Introduction/Problem Statement\n\nIf you are applying to college and are a serious student, you are most likely interested in which universities have a culture that encourages study.  Likewise, if you are a student who is not quite so inclined to serious study, you would probably like to know which universities support relaxation, or health, or other interests. While college guides can tell you the demographics of a particular institution, they may not tell you what the university culture is like.  Furthermore, articles on campus life are usually based on qualitative, anecdotal reports, or surveys and not always on quantitative fact.  \n\nThe culture of college campuses is not only of interest to students.  Some universities take an active role in trying to shape a specific culture at their university.  Portland State University administration, for example, tries to foster a culture of civic engagement (https://archive.nytimes.com/www.nytimes.com/ref/college/collegespecial2/coll_aascu_ecculture.html). James Lang, an author of an article in the Chronicle of Higher Education, laments the loss of an intellectual climate, where students would talk about big ideas outside the classroom. (https://www.chronicle.com/article/21st-Century-Campus-Culture/129333)\n\nI live in a college town, Boulder, Colorado, and as I learned in the previous assignment about clustering and using Foursquare to identify venues in neighborhoods, it got me thinking about what the venues around universities tell us about the culture of universities. Can it tell us if its a party school, or has an intellectual culture? What else can it tell us?   \n\nMy hypothesis is that the venues that surround universities can tell us something about the culture that exists at that campus and that by classifying universities by their surrounding venues, we might infer what kind of cultures exist.  This information might be of use to both students who are appllying to universities and are looking for a good fit, and univeristy admiinistration who want to understand their universities culture and see if cultural changes they are pursuing are effective.\n\n", 
            "cell_type": "markdown", 
            "metadata": {
                "collapsed": true
            }
        }, 
        {
            "source": "## Data\nTo do my analysis, My plan is as follows:\nI will get university names and their geographical locations for a random sample of 50 large baccalaureate (or higher) granting universities from the National Center for Educational Statistics https://nces.ed.gov/ipeds/use-the-data.  The reason why I am focusing on large universities is that I want to ensure that there are enough students to have a significant impact on the immediate surroundings of the university. I also focus on 4 year or bacchlaureate granting schools to filter out voacational or associates level programs.\nI will then use Foursquare location data to identify the venues in a 1000 meter radius around each university.  This will provide input to identify the frequency of different venues for analysis.   Then I will use kmeans clustering to identify like groups of universities.  Once I have clustered the groups, I will examine the clusters to see if there are apparent similarities that can provide insight into the culture of that group of universities.", 
            "cell_type": "markdown", 
            "metadata": {}
        }, 
        {
            "execution_count": null, 
            "cell_type": "code", 
            "metadata": {}, 
            "outputs": [], 
            "source": ""
        }
    ], 
    "metadata": {
        "kernelspec": {
            "display_name": "Python 3.5 with Spark 2.1", 
            "name": "python3-spark21", 
            "language": "python"
        }, 
        "language_info": {
            "mimetype": "text/x-python", 
            "nbconvert_exporter": "python", 
            "version": "3.5.4", 
            "name": "python", 
            "file_extension": ".py", 
            "pygments_lexer": "ipython3", 
            "codemirror_mode": {
                "version": 3, 
                "name": "ipython"
            }
        }
    }, 
    "nbformat": 4
}